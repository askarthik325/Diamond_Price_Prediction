{
 "cells": [
  {
   "cell_type": "markdown",
   "id": "2bfbf542",
   "metadata": {},
   "source": [
    "# DIAMOND PRICE PREDICTION"
   ]
  },
  {
   "cell_type": "code",
   "execution_count": 1,
   "id": "e3a96258",
   "metadata": {},
   "outputs": [],
   "source": [
    "import pandas as pd\n",
    "import seaborn as sns\n",
    "import matplotlib.pyplot as plt\n",
    "import numpy as np\n",
    "from sklearn.model_selection import train_test_split\n",
    "from sklearn import tree\n",
    "from sklearn.ensemble import RandomForestRegressor\n",
    "from sklearn.linear_model import LinearRegression"
   ]
  },
  {
   "cell_type": "markdown",
   "id": "bcbba2ff",
   "metadata": {},
   "source": [
    "# UNDERSTANDING THE DATA"
   ]
  },
  {
   "cell_type": "code",
   "execution_count": 2,
   "id": "ff1dc304",
   "metadata": {},
   "outputs": [
    {
     "data": {
      "text/html": [
       "<div>\n",
       "<style scoped>\n",
       "    .dataframe tbody tr th:only-of-type {\n",
       "        vertical-align: middle;\n",
       "    }\n",
       "\n",
       "    .dataframe tbody tr th {\n",
       "        vertical-align: top;\n",
       "    }\n",
       "\n",
       "    .dataframe thead th {\n",
       "        text-align: right;\n",
       "    }\n",
       "</style>\n",
       "<table border=\"1\" class=\"dataframe\">\n",
       "  <thead>\n",
       "    <tr style=\"text-align: right;\">\n",
       "      <th></th>\n",
       "      <th>carat</th>\n",
       "      <th>cut</th>\n",
       "      <th>color</th>\n",
       "      <th>clarity</th>\n",
       "      <th>depth</th>\n",
       "      <th>table</th>\n",
       "      <th>price</th>\n",
       "      <th>x</th>\n",
       "      <th>y</th>\n",
       "      <th>z</th>\n",
       "    </tr>\n",
       "  </thead>\n",
       "  <tbody>\n",
       "    <tr>\n",
       "      <th>0</th>\n",
       "      <td>0.23</td>\n",
       "      <td>Ideal</td>\n",
       "      <td>E</td>\n",
       "      <td>SI2</td>\n",
       "      <td>61.5</td>\n",
       "      <td>55.0</td>\n",
       "      <td>326</td>\n",
       "      <td>3.95</td>\n",
       "      <td>3.98</td>\n",
       "      <td>2.43</td>\n",
       "    </tr>\n",
       "    <tr>\n",
       "      <th>1</th>\n",
       "      <td>0.21</td>\n",
       "      <td>Premium</td>\n",
       "      <td>E</td>\n",
       "      <td>SI1</td>\n",
       "      <td>59.8</td>\n",
       "      <td>61.0</td>\n",
       "      <td>326</td>\n",
       "      <td>3.89</td>\n",
       "      <td>3.84</td>\n",
       "      <td>2.31</td>\n",
       "    </tr>\n",
       "    <tr>\n",
       "      <th>2</th>\n",
       "      <td>0.23</td>\n",
       "      <td>Good</td>\n",
       "      <td>E</td>\n",
       "      <td>VS1</td>\n",
       "      <td>56.9</td>\n",
       "      <td>65.0</td>\n",
       "      <td>327</td>\n",
       "      <td>4.05</td>\n",
       "      <td>4.07</td>\n",
       "      <td>2.31</td>\n",
       "    </tr>\n",
       "    <tr>\n",
       "      <th>3</th>\n",
       "      <td>0.29</td>\n",
       "      <td>Premium</td>\n",
       "      <td>I</td>\n",
       "      <td>VS2</td>\n",
       "      <td>62.4</td>\n",
       "      <td>58.0</td>\n",
       "      <td>334</td>\n",
       "      <td>4.20</td>\n",
       "      <td>4.23</td>\n",
       "      <td>2.63</td>\n",
       "    </tr>\n",
       "    <tr>\n",
       "      <th>4</th>\n",
       "      <td>0.31</td>\n",
       "      <td>Good</td>\n",
       "      <td>J</td>\n",
       "      <td>SI2</td>\n",
       "      <td>63.3</td>\n",
       "      <td>58.0</td>\n",
       "      <td>335</td>\n",
       "      <td>4.34</td>\n",
       "      <td>4.35</td>\n",
       "      <td>2.75</td>\n",
       "    </tr>\n",
       "  </tbody>\n",
       "</table>\n",
       "</div>"
      ],
      "text/plain": [
       "   carat      cut color clarity  depth  table  price     x     y     z\n",
       "0   0.23    Ideal     E     SI2   61.5   55.0    326  3.95  3.98  2.43\n",
       "1   0.21  Premium     E     SI1   59.8   61.0    326  3.89  3.84  2.31\n",
       "2   0.23     Good     E     VS1   56.9   65.0    327  4.05  4.07  2.31\n",
       "3   0.29  Premium     I     VS2   62.4   58.0    334  4.20  4.23  2.63\n",
       "4   0.31     Good     J     SI2   63.3   58.0    335  4.34  4.35  2.75"
      ]
     },
     "execution_count": 2,
     "metadata": {},
     "output_type": "execute_result"
    }
   ],
   "source": [
    "df=pd.read_csv(\"DiamondsPrices.csv\")\n",
    "df.head()"
   ]
  },
  {
   "cell_type": "markdown",
   "id": "569ae60d",
   "metadata": {},
   "source": [
    "# DATA PREPROCESSING"
   ]
  },
  {
   "cell_type": "code",
   "execution_count": 3,
   "id": "134b20eb",
   "metadata": {},
   "outputs": [
    {
     "data": {
      "text/plain": [
       "(53943, 10)"
      ]
     },
     "execution_count": 3,
     "metadata": {},
     "output_type": "execute_result"
    }
   ],
   "source": [
    "df.shape"
   ]
  },
  {
   "cell_type": "code",
   "execution_count": 4,
   "id": "8b3df2d4",
   "metadata": {},
   "outputs": [
    {
     "name": "stdout",
     "output_type": "stream",
     "text": [
      "<class 'pandas.core.frame.DataFrame'>\n",
      "RangeIndex: 53943 entries, 0 to 53942\n",
      "Data columns (total 10 columns):\n",
      " #   Column   Non-Null Count  Dtype  \n",
      "---  ------   --------------  -----  \n",
      " 0   carat    53943 non-null  float64\n",
      " 1   cut      53943 non-null  object \n",
      " 2   color    53943 non-null  object \n",
      " 3   clarity  53943 non-null  object \n",
      " 4   depth    53943 non-null  float64\n",
      " 5   table    53943 non-null  float64\n",
      " 6   price    53943 non-null  int64  \n",
      " 7   x        53943 non-null  float64\n",
      " 8   y        53943 non-null  float64\n",
      " 9   z        53943 non-null  float64\n",
      "dtypes: float64(6), int64(1), object(3)\n",
      "memory usage: 4.1+ MB\n"
     ]
    }
   ],
   "source": [
    "df.info()"
   ]
  },
  {
   "cell_type": "code",
   "execution_count": 5,
   "id": "135f0a8a",
   "metadata": {},
   "outputs": [
    {
     "data": {
      "text/plain": [
       "carat      0\n",
       "cut        0\n",
       "color      0\n",
       "clarity    0\n",
       "depth      0\n",
       "table      0\n",
       "price      0\n",
       "x          0\n",
       "y          0\n",
       "z          0\n",
       "dtype: int64"
      ]
     },
     "execution_count": 5,
     "metadata": {},
     "output_type": "execute_result"
    }
   ],
   "source": [
    "df.isnull().sum()"
   ]
  },
  {
   "cell_type": "code",
   "execution_count": 6,
   "id": "f1bd32d1",
   "metadata": {},
   "outputs": [
    {
     "data": {
      "text/html": [
       "<div>\n",
       "<style scoped>\n",
       "    .dataframe tbody tr th:only-of-type {\n",
       "        vertical-align: middle;\n",
       "    }\n",
       "\n",
       "    .dataframe tbody tr th {\n",
       "        vertical-align: top;\n",
       "    }\n",
       "\n",
       "    .dataframe thead th {\n",
       "        text-align: right;\n",
       "    }\n",
       "</style>\n",
       "<table border=\"1\" class=\"dataframe\">\n",
       "  <thead>\n",
       "    <tr style=\"text-align: right;\">\n",
       "      <th></th>\n",
       "      <th>carat</th>\n",
       "      <th>depth</th>\n",
       "      <th>table</th>\n",
       "      <th>price</th>\n",
       "      <th>x</th>\n",
       "      <th>y</th>\n",
       "      <th>z</th>\n",
       "    </tr>\n",
       "  </thead>\n",
       "  <tbody>\n",
       "    <tr>\n",
       "      <th>count</th>\n",
       "      <td>53943.000000</td>\n",
       "      <td>53943.000000</td>\n",
       "      <td>53943.000000</td>\n",
       "      <td>53943.000000</td>\n",
       "      <td>53943.000000</td>\n",
       "      <td>53943.000000</td>\n",
       "      <td>53943.000000</td>\n",
       "    </tr>\n",
       "    <tr>\n",
       "      <th>mean</th>\n",
       "      <td>0.797935</td>\n",
       "      <td>61.749322</td>\n",
       "      <td>57.457251</td>\n",
       "      <td>3932.734294</td>\n",
       "      <td>5.731158</td>\n",
       "      <td>5.734526</td>\n",
       "      <td>3.538730</td>\n",
       "    </tr>\n",
       "    <tr>\n",
       "      <th>std</th>\n",
       "      <td>0.473999</td>\n",
       "      <td>1.432626</td>\n",
       "      <td>2.234549</td>\n",
       "      <td>3989.338447</td>\n",
       "      <td>1.121730</td>\n",
       "      <td>1.142103</td>\n",
       "      <td>0.705679</td>\n",
       "    </tr>\n",
       "    <tr>\n",
       "      <th>min</th>\n",
       "      <td>0.200000</td>\n",
       "      <td>43.000000</td>\n",
       "      <td>43.000000</td>\n",
       "      <td>326.000000</td>\n",
       "      <td>0.000000</td>\n",
       "      <td>0.000000</td>\n",
       "      <td>0.000000</td>\n",
       "    </tr>\n",
       "    <tr>\n",
       "      <th>25%</th>\n",
       "      <td>0.400000</td>\n",
       "      <td>61.000000</td>\n",
       "      <td>56.000000</td>\n",
       "      <td>950.000000</td>\n",
       "      <td>4.710000</td>\n",
       "      <td>4.720000</td>\n",
       "      <td>2.910000</td>\n",
       "    </tr>\n",
       "    <tr>\n",
       "      <th>50%</th>\n",
       "      <td>0.700000</td>\n",
       "      <td>61.800000</td>\n",
       "      <td>57.000000</td>\n",
       "      <td>2401.000000</td>\n",
       "      <td>5.700000</td>\n",
       "      <td>5.710000</td>\n",
       "      <td>3.530000</td>\n",
       "    </tr>\n",
       "    <tr>\n",
       "      <th>75%</th>\n",
       "      <td>1.040000</td>\n",
       "      <td>62.500000</td>\n",
       "      <td>59.000000</td>\n",
       "      <td>5324.000000</td>\n",
       "      <td>6.540000</td>\n",
       "      <td>6.540000</td>\n",
       "      <td>4.040000</td>\n",
       "    </tr>\n",
       "    <tr>\n",
       "      <th>max</th>\n",
       "      <td>5.010000</td>\n",
       "      <td>79.000000</td>\n",
       "      <td>95.000000</td>\n",
       "      <td>18823.000000</td>\n",
       "      <td>10.740000</td>\n",
       "      <td>58.900000</td>\n",
       "      <td>31.800000</td>\n",
       "    </tr>\n",
       "  </tbody>\n",
       "</table>\n",
       "</div>"
      ],
      "text/plain": [
       "              carat         depth         table         price             x  \\\n",
       "count  53943.000000  53943.000000  53943.000000  53943.000000  53943.000000   \n",
       "mean       0.797935     61.749322     57.457251   3932.734294      5.731158   \n",
       "std        0.473999      1.432626      2.234549   3989.338447      1.121730   \n",
       "min        0.200000     43.000000     43.000000    326.000000      0.000000   \n",
       "25%        0.400000     61.000000     56.000000    950.000000      4.710000   \n",
       "50%        0.700000     61.800000     57.000000   2401.000000      5.700000   \n",
       "75%        1.040000     62.500000     59.000000   5324.000000      6.540000   \n",
       "max        5.010000     79.000000     95.000000  18823.000000     10.740000   \n",
       "\n",
       "                  y             z  \n",
       "count  53943.000000  53943.000000  \n",
       "mean       5.734526      3.538730  \n",
       "std        1.142103      0.705679  \n",
       "min        0.000000      0.000000  \n",
       "25%        4.720000      2.910000  \n",
       "50%        5.710000      3.530000  \n",
       "75%        6.540000      4.040000  \n",
       "max       58.900000     31.800000  "
      ]
     },
     "execution_count": 6,
     "metadata": {},
     "output_type": "execute_result"
    }
   ],
   "source": [
    "df.describe()"
   ]
  },
  {
   "cell_type": "code",
   "execution_count": 7,
   "id": "56e05cce",
   "metadata": {},
   "outputs": [],
   "source": [
    "#in the above output,at \"min\" row we get x,y,z values are zeroes,which is not possible(because x,y,z are cannot be zero)\n",
    "#so we have to remove like values(which are also said to be as an outliers)"
   ]
  },
  {
   "cell_type": "markdown",
   "id": "3b356387",
   "metadata": {},
   "source": [
    "Min value of \"x\",\"y\",\"z\" are zeroes this indicates that there are faulty values(outliers)in data that represent dimentionless or 2-dimenstional daimonds.so we need to filter out those as it clearly faulty data points"
   ]
  },
  {
   "cell_type": "code",
   "execution_count": 8,
   "id": "174bfad9",
   "metadata": {},
   "outputs": [
    {
     "data": {
      "text/plain": [
       "(53923, 10)"
      ]
     },
     "execution_count": 8,
     "metadata": {},
     "output_type": "execute_result"
    }
   ],
   "source": [
    "df=df.loc[(df[['x','y','z']]!=0).all(axis=1)]\n",
    "df.shape"
   ]
  },
  {
   "cell_type": "code",
   "execution_count": 9,
   "id": "de808414",
   "metadata": {},
   "outputs": [],
   "source": [
    "#Dropping the duplicate values form the Dataset"
   ]
  },
  {
   "cell_type": "code",
   "execution_count": 10,
   "id": "d017d107",
   "metadata": {},
   "outputs": [],
   "source": [
    "#df=df.drop_duplicates()\n",
    "#df.shape"
   ]
  },
  {
   "cell_type": "markdown",
   "id": "cc00108f",
   "metadata": {},
   "source": [
    "# DATA VISUALIZATION"
   ]
  },
  {
   "cell_type": "markdown",
   "id": "449ab56a",
   "metadata": {},
   "source": [
    "Dividing the data set into catergorical and numerical values separately for visualizing the data "
   ]
  },
  {
   "cell_type": "code",
   "execution_count": 11,
   "id": "78528a91",
   "metadata": {},
   "outputs": [],
   "source": [
    "#cat_data refers to the catagorical data \n",
    "#num_data refers to the numerical data\n",
    "cat_data=['cut','color','clarity']\n",
    "num_data=['carat','depth','table','x','y','z']"
   ]
  },
  {
   "cell_type": "markdown",
   "id": "13bed02c",
   "metadata": {},
   "source": [
    "plotting barplot between price and catergorical data for understand the outliers"
   ]
  },
  {
   "cell_type": "code",
   "execution_count": 12,
   "id": "7e05ee5d",
   "metadata": {
    "scrolled": true
   },
   "outputs": [
    {
     "data": {
      "image/png": "[encoded data removed]",
      "text/plain": [
       "<Figure size 432x288 with 1 Axes>"
      ]
     },
     "metadata": {
      "needs_background": "light"
     },
     "output_type": "display_data"
    },
    {
     "data": {
      "image/png": "[encoded data removed]",
      "text/plain": [
       "<Figure size 432x288 with 1 Axes>"
      ]
     },
     "metadata": {
      "needs_background": "light"
     },
     "output_type": "display_data"
    },
    {
     "data": {
      "image/png": "[encoded data removed]",
      "text/plain": [
       "<Figure size 432x288 with 1 Axes>"
      ]
     },
     "metadata": {
      "needs_background": "light"
     },
     "output_type": "display_data"
    }
   ],
   "source": [
    "for i in cat_data:\n",
    "    sns.barplot(x=df[i],y='price',data=df)\n",
    "    plt.show()"
   ]
  },
  {
   "cell_type": "markdown",
   "id": "5f560fd8",
   "metadata": {},
   "source": [
    "Plotting scatterplot between price and remaing numerical data"
   ]
  },
  {
   "cell_type": "code",
   "execution_count": 13,
   "id": "540a5cec",
   "metadata": {},
   "outputs": [
    {
     "data": {
      "image/png": "[encoded data removed]",
      "text/plain": [
       "<Figure size 432x288 with 1 Axes>"
      ]
     },
     "metadata": {
      "needs_background": "light"
     },
     "output_type": "display_data"
    },
    {
     "data": {
      "image/png": "[encoded data removed]",
      "text/plain": [
       "<Figure size 432x288 with 1 Axes>"
      ]
     },
     "metadata": {
      "needs_background": "light"
     },
     "output_type": "display_data"
    },
    {
     "data": {
      "image/png": "[encoded data removed]",
      "text/plain": [
       "<Figure size 432x288 with 1 Axes>"
      ]
     },
     "metadata": {
      "needs_background": "light"
     },
     "output_type": "display_data"
    },
    {
     "data": {
      "image/png": "[encoded data removed]",
      "text/plain": [
       "<Figure size 432x288 with 1 Axes>"
      ]
     },
     "metadata": {
      "needs_background": "light"
     },
     "output_type": "display_data"
    },
    {
     "data": {
      "image/png": "[encoded data removed]",
      "text/plain": [
       "<Figure size 432x288 with 1 Axes>"
      ]
     },
     "metadata": {
      "needs_background": "light"
     },
     "output_type": "display_data"
    },
    {
     "data": {
      "image/png": "[encoded data removed]",
      "text/plain": [
       "<Figure size 432x288 with 1 Axes>"
      ]
     },
     "metadata": {
      "needs_background": "light"
     },
     "output_type": "display_data"
    }
   ],
   "source": [
    "for i in num_data:\n",
    "    plt.scatter(x=df[i],y='price',data=df)\n",
    "    plt.xlabel(i)\n",
    "    plt.ylabel('price')\n",
    "    plt.show()"
   ]
  },
  {
   "cell_type": "code",
   "execution_count": 14,
   "id": "47c8f637",
   "metadata": {},
   "outputs": [
    {
     "data": {
      "text/plain": [
       "(53908, 10)"
      ]
     },
     "execution_count": 14,
     "metadata": {},
     "output_type": "execute_result"
    }
   ],
   "source": [
    "#Dropping the outliers. \n",
    "df = df[(df[\"depth\"]<75)&(df[\"depth\"]>45)]\n",
    "df = df[(df[\"table\"]<80)&(df[\"table\"]>45)]\n",
    "df = df[(df[\"x\"]<30)]\n",
    "df = df[(df[\"y\"]<30)]\n",
    "df = df[(df[\"z\"]<30)&(df[\"z\"]>2)]\n",
    "df.shape"
   ]
  },
  {
   "cell_type": "code",
   "execution_count": 15,
   "id": "39ea5216",
   "metadata": {},
   "outputs": [
    {
     "data": {
      "text/plain": [
       "<AxesSubplot:>"
      ]
     },
     "execution_count": 15,
     "metadata": {},
     "output_type": "execute_result"
    },
    {
     "data": {
      "image/png": "[encoded data removed]",
      "text/plain": [
       "<Figure size 1080x360 with 2 Axes>"
      ]
     },
     "metadata": {
      "needs_background": "light"
     },
     "output_type": "display_data"
    }
   ],
   "source": [
    "#plotting the correlations among the columns using heatmap\n",
    "cor=df.corr()\n",
    "plt.figure(figsize=(15,5))\n",
    "sns.heatmap(cor,annot=True,cmap='coolwarm')"
   ]
  },
  {
   "cell_type": "code",
   "execution_count": 16,
   "id": "82338b81",
   "metadata": {},
   "outputs": [
    {
     "data": {
      "text/plain": [
       "<AxesSubplot:>"
      ]
     },
     "execution_count": 16,
     "metadata": {},
     "output_type": "execute_result"
    },
    {
     "data": {
      "image/png": "[encoded data removed]",
      "text/plain": [
       "<Figure size 432x288 with 1 Axes>"
      ]
     },
     "metadata": {
      "needs_background": "light"
     },
     "output_type": "display_data"
    }
   ],
   "source": [
    "#Finding correlation with price and remaing attributes\n",
    "cor=df.corr()\n",
    "cor['price'].sort_values(ascending=False).plot(kind='bar')"
   ]
  },
  {
   "cell_type": "markdown",
   "id": "eddb79f9",
   "metadata": {},
   "source": [
    "From the above plot price column has good correlation with the remaing columns"
   ]
  },
  {
   "cell_type": "code",
   "execution_count": 17,
   "id": "0374a3c2",
   "metadata": {},
   "outputs": [
    {
     "data": {
      "text/html": [
       "<div>\n",
       "<style scoped>\n",
       "    .dataframe tbody tr th:only-of-type {\n",
       "        vertical-align: middle;\n",
       "    }\n",
       "\n",
       "    .dataframe tbody tr th {\n",
       "        vertical-align: top;\n",
       "    }\n",
       "\n",
       "    .dataframe thead th {\n",
       "        text-align: right;\n",
       "    }\n",
       "</style>\n",
       "<table border=\"1\" class=\"dataframe\">\n",
       "  <thead>\n",
       "    <tr style=\"text-align: right;\">\n",
       "      <th></th>\n",
       "      <th>carat</th>\n",
       "      <th>cut</th>\n",
       "      <th>color</th>\n",
       "      <th>clarity</th>\n",
       "      <th>depth</th>\n",
       "      <th>table</th>\n",
       "      <th>price</th>\n",
       "      <th>volume</th>\n",
       "    </tr>\n",
       "  </thead>\n",
       "  <tbody>\n",
       "    <tr>\n",
       "      <th>0</th>\n",
       "      <td>0.23</td>\n",
       "      <td>Ideal</td>\n",
       "      <td>E</td>\n",
       "      <td>SI2</td>\n",
       "      <td>61.5</td>\n",
       "      <td>55.0</td>\n",
       "      <td>326</td>\n",
       "      <td>38.202030</td>\n",
       "    </tr>\n",
       "    <tr>\n",
       "      <th>1</th>\n",
       "      <td>0.21</td>\n",
       "      <td>Premium</td>\n",
       "      <td>E</td>\n",
       "      <td>SI1</td>\n",
       "      <td>59.8</td>\n",
       "      <td>61.0</td>\n",
       "      <td>326</td>\n",
       "      <td>34.505856</td>\n",
       "    </tr>\n",
       "  </tbody>\n",
       "</table>\n",
       "</div>"
      ],
      "text/plain": [
       "   carat      cut color clarity  depth  table  price     volume\n",
       "0   0.23    Ideal     E     SI2   61.5   55.0    326  38.202030\n",
       "1   0.21  Premium     E     SI1   59.8   61.0    326  34.505856"
      ]
     },
     "execution_count": 17,
     "metadata": {},
     "output_type": "execute_result"
    }
   ],
   "source": [
    "df[\"volume\"]=df[\"x\"]*df[\"y\"]*df[\"z\"]\n",
    "df=df.drop([\"x\",\"y\",\"z\"],axis=1)\n",
    "df.head(2)"
   ]
  },
  {
   "cell_type": "markdown",
   "id": "a8dbb4bf",
   "metadata": {},
   "source": [
    "# Dealing with the categorical values"
   ]
  },
  {
   "cell_type": "markdown",
   "id": "84f77cce",
   "metadata": {},
   "source": [
    "Creating Dummy varaibles for Categorical values"
   ]
  },
  {
   "cell_type": "code",
   "execution_count": 18,
   "id": "289c9ddc",
   "metadata": {},
   "outputs": [
    {
     "data": {
      "text/plain": [
       "(array(['Fair', 'Good', 'Ideal', 'Premium', 'Very Good'], dtype=object),\n",
       " array([ 1603,  4902, 21542, 13781, 12080], dtype=int64))"
      ]
     },
     "execution_count": 18,
     "metadata": {},
     "output_type": "execute_result"
    }
   ],
   "source": [
    "np.unique(df['cut'],return_counts=True)"
   ]
  },
  {
   "cell_type": "code",
   "execution_count": 19,
   "id": "32c07312",
   "metadata": {},
   "outputs": [
    {
     "data": {
      "text/html": [
       "<div>\n",
       "<style scoped>\n",
       "    .dataframe tbody tr th:only-of-type {\n",
       "        vertical-align: middle;\n",
       "    }\n",
       "\n",
       "    .dataframe tbody tr th {\n",
       "        vertical-align: top;\n",
       "    }\n",
       "\n",
       "    .dataframe thead th {\n",
       "        text-align: right;\n",
       "    }\n",
       "</style>\n",
       "<table border=\"1\" class=\"dataframe\">\n",
       "  <thead>\n",
       "    <tr style=\"text-align: right;\">\n",
       "      <th></th>\n",
       "      <th>carat</th>\n",
       "      <th>cut</th>\n",
       "      <th>color</th>\n",
       "      <th>clarity</th>\n",
       "      <th>depth</th>\n",
       "      <th>table</th>\n",
       "      <th>price</th>\n",
       "      <th>volume</th>\n",
       "    </tr>\n",
       "  </thead>\n",
       "  <tbody>\n",
       "    <tr>\n",
       "      <th>0</th>\n",
       "      <td>0.23</td>\n",
       "      <td>5</td>\n",
       "      <td>E</td>\n",
       "      <td>SI2</td>\n",
       "      <td>61.5</td>\n",
       "      <td>55.0</td>\n",
       "      <td>326</td>\n",
       "      <td>38.202030</td>\n",
       "    </tr>\n",
       "    <tr>\n",
       "      <th>1</th>\n",
       "      <td>0.21</td>\n",
       "      <td>4</td>\n",
       "      <td>E</td>\n",
       "      <td>SI1</td>\n",
       "      <td>59.8</td>\n",
       "      <td>61.0</td>\n",
       "      <td>326</td>\n",
       "      <td>34.505856</td>\n",
       "    </tr>\n",
       "  </tbody>\n",
       "</table>\n",
       "</div>"
      ],
      "text/plain": [
       "   carat  cut color clarity  depth  table  price     volume\n",
       "0   0.23    5     E     SI2   61.5   55.0    326  38.202030\n",
       "1   0.21    4     E     SI1   59.8   61.0    326  34.505856"
      ]
     },
     "execution_count": 19,
     "metadata": {},
     "output_type": "execute_result"
    }
   ],
   "source": [
    "df['cut'].replace({\"Ideal\":5, \"Premium\":4, \"Very Good\":3,\"Good\":2,\"Fair\":1}, inplace=True)\n",
    "df.head(2)"
   ]
  },
  {
   "cell_type": "code",
   "execution_count": 20,
   "id": "1efbedbe",
   "metadata": {},
   "outputs": [
    {
     "data": {
      "text/plain": [
       "(array(['D', 'E', 'F', 'G', 'H', 'I', 'J'], dtype=object),\n",
       " array([ 6774,  9793,  9537, 11282,  8296,  5419,  2807], dtype=int64))"
      ]
     },
     "execution_count": 20,
     "metadata": {},
     "output_type": "execute_result"
    }
   ],
   "source": [
    "np.unique(df['color'],return_counts=True)"
   ]
  },
  {
   "cell_type": "code",
   "execution_count": 21,
   "id": "e31c49b6",
   "metadata": {},
   "outputs": [
    {
     "data": {
      "text/html": [
       "<div>\n",
       "<style scoped>\n",
       "    .dataframe tbody tr th:only-of-type {\n",
       "        vertical-align: middle;\n",
       "    }\n",
       "\n",
       "    .dataframe tbody tr th {\n",
       "        vertical-align: top;\n",
       "    }\n",
       "\n",
       "    .dataframe thead th {\n",
       "        text-align: right;\n",
       "    }\n",
       "</style>\n",
       "<table border=\"1\" class=\"dataframe\">\n",
       "  <thead>\n",
       "    <tr style=\"text-align: right;\">\n",
       "      <th></th>\n",
       "      <th>carat</th>\n",
       "      <th>cut</th>\n",
       "      <th>color</th>\n",
       "      <th>clarity</th>\n",
       "      <th>depth</th>\n",
       "      <th>table</th>\n",
       "      <th>price</th>\n",
       "      <th>volume</th>\n",
       "    </tr>\n",
       "  </thead>\n",
       "  <tbody>\n",
       "    <tr>\n",
       "      <th>0</th>\n",
       "      <td>0.23</td>\n",
       "      <td>5</td>\n",
       "      <td>2</td>\n",
       "      <td>SI2</td>\n",
       "      <td>61.5</td>\n",
       "      <td>55.0</td>\n",
       "      <td>326</td>\n",
       "      <td>38.202030</td>\n",
       "    </tr>\n",
       "    <tr>\n",
       "      <th>1</th>\n",
       "      <td>0.21</td>\n",
       "      <td>4</td>\n",
       "      <td>2</td>\n",
       "      <td>SI1</td>\n",
       "      <td>59.8</td>\n",
       "      <td>61.0</td>\n",
       "      <td>326</td>\n",
       "      <td>34.505856</td>\n",
       "    </tr>\n",
       "  </tbody>\n",
       "</table>\n",
       "</div>"
      ],
      "text/plain": [
       "   carat  cut  color clarity  depth  table  price     volume\n",
       "0   0.23    5      2     SI2   61.5   55.0    326  38.202030\n",
       "1   0.21    4      2     SI1   59.8   61.0    326  34.505856"
      ]
     },
     "execution_count": 21,
     "metadata": {},
     "output_type": "execute_result"
    }
   ],
   "source": [
    "df['color'].replace({\"D\":1,\"E\":2,\"F\":3,\"G\":4,\"H\":5,\"I\":6,\"J\":7 }, inplace=True)\n",
    "df.head(2)"
   ]
  },
  {
   "cell_type": "code",
   "execution_count": 22,
   "id": "6c483bb5",
   "metadata": {},
   "outputs": [
    {
     "data": {
      "text/plain": [
       "(array(['I1', 'IF', 'SI1', 'SI2', 'VS1', 'VS2', 'VVS1', 'VVS2'],\n",
       "       dtype=object),\n",
       " array([  737,  1790, 13061,  9184,  8165, 12251,  3654,  5066],\n",
       "       dtype=int64))"
      ]
     },
     "execution_count": 22,
     "metadata": {},
     "output_type": "execute_result"
    }
   ],
   "source": [
    "np.unique(df['clarity'],return_counts=True)"
   ]
  },
  {
   "cell_type": "code",
   "execution_count": 23,
   "id": "19e929c6",
   "metadata": {},
   "outputs": [
    {
     "data": {
      "text/html": [
       "<div>\n",
       "<style scoped>\n",
       "    .dataframe tbody tr th:only-of-type {\n",
       "        vertical-align: middle;\n",
       "    }\n",
       "\n",
       "    .dataframe tbody tr th {\n",
       "        vertical-align: top;\n",
       "    }\n",
       "\n",
       "    .dataframe thead th {\n",
       "        text-align: right;\n",
       "    }\n",
       "</style>\n",
       "<table border=\"1\" class=\"dataframe\">\n",
       "  <thead>\n",
       "    <tr style=\"text-align: right;\">\n",
       "      <th></th>\n",
       "      <th>carat</th>\n",
       "      <th>cut</th>\n",
       "      <th>color</th>\n",
       "      <th>clarity</th>\n",
       "      <th>depth</th>\n",
       "      <th>table</th>\n",
       "      <th>price</th>\n",
       "      <th>volume</th>\n",
       "    </tr>\n",
       "  </thead>\n",
       "  <tbody>\n",
       "    <tr>\n",
       "      <th>0</th>\n",
       "      <td>0.23</td>\n",
       "      <td>5</td>\n",
       "      <td>2</td>\n",
       "      <td>2</td>\n",
       "      <td>61.5</td>\n",
       "      <td>55.0</td>\n",
       "      <td>326</td>\n",
       "      <td>38.202030</td>\n",
       "    </tr>\n",
       "    <tr>\n",
       "      <th>1</th>\n",
       "      <td>0.21</td>\n",
       "      <td>4</td>\n",
       "      <td>2</td>\n",
       "      <td>3</td>\n",
       "      <td>59.8</td>\n",
       "      <td>61.0</td>\n",
       "      <td>326</td>\n",
       "      <td>34.505856</td>\n",
       "    </tr>\n",
       "  </tbody>\n",
       "</table>\n",
       "</div>"
      ],
      "text/plain": [
       "   carat  cut  color  clarity  depth  table  price     volume\n",
       "0   0.23    5      2        2   61.5   55.0    326  38.202030\n",
       "1   0.21    4      2        3   59.8   61.0    326  34.505856"
      ]
     },
     "execution_count": 23,
     "metadata": {},
     "output_type": "execute_result"
    }
   ],
   "source": [
    "df['clarity'].replace({\"SI2\":2, \"SI1\":3, \"VS1\":5, \"VS2\":4, \"VVS2\":6, \"VVS1\":7, \"I1\":1,\"IF\":8}, inplace=True)\n",
    "df.head(2)"
   ]
  },
  {
   "cell_type": "code",
   "execution_count": 24,
   "id": "2d978c1a",
   "metadata": {},
   "outputs": [],
   "source": [
    "#from sklearn.preprocessing import LabelEncoder\n",
    "#encode = LabelEncoder()\n",
    "#df['cut'] = encode.fit_transform(df['cut'])\n",
    "#df['color'] = encode.fit_transform(df['color'])\n",
    "#df['clarity'] = encode.fit_transform(df['clarity'])"
   ]
  },
  {
   "cell_type": "markdown",
   "id": "e88d1d4e",
   "metadata": {},
   "source": [
    "# Splitting the Data into Train and Test sets"
   ]
  },
  {
   "cell_type": "code",
   "execution_count": 25,
   "id": "3224b737",
   "metadata": {},
   "outputs": [],
   "source": [
    "#split the data into dependent and independent variables\n",
    "x = df.iloc[:,[0,1,2,3,4,5,7]]\n",
    "y = df.iloc[:,6]"
   ]
  },
  {
   "cell_type": "code",
   "execution_count": 26,
   "id": "f9a58953",
   "metadata": {},
   "outputs": [
    {
     "data": {
      "text/html": [
       "<div>\n",
       "<style scoped>\n",
       "    .dataframe tbody tr th:only-of-type {\n",
       "        vertical-align: middle;\n",
       "    }\n",
       "\n",
       "    .dataframe tbody tr th {\n",
       "        vertical-align: top;\n",
       "    }\n",
       "\n",
       "    .dataframe thead th {\n",
       "        text-align: right;\n",
       "    }\n",
       "</style>\n",
       "<table border=\"1\" class=\"dataframe\">\n",
       "  <thead>\n",
       "    <tr style=\"text-align: right;\">\n",
       "      <th></th>\n",
       "      <th>carat</th>\n",
       "      <th>cut</th>\n",
       "      <th>color</th>\n",
       "      <th>clarity</th>\n",
       "      <th>depth</th>\n",
       "      <th>table</th>\n",
       "      <th>volume</th>\n",
       "    </tr>\n",
       "  </thead>\n",
       "  <tbody>\n",
       "    <tr>\n",
       "      <th>0</th>\n",
       "      <td>0.23</td>\n",
       "      <td>5</td>\n",
       "      <td>2</td>\n",
       "      <td>2</td>\n",
       "      <td>61.5</td>\n",
       "      <td>55.0</td>\n",
       "      <td>38.202030</td>\n",
       "    </tr>\n",
       "    <tr>\n",
       "      <th>1</th>\n",
       "      <td>0.21</td>\n",
       "      <td>4</td>\n",
       "      <td>2</td>\n",
       "      <td>3</td>\n",
       "      <td>59.8</td>\n",
       "      <td>61.0</td>\n",
       "      <td>34.505856</td>\n",
       "    </tr>\n",
       "  </tbody>\n",
       "</table>\n",
       "</div>"
      ],
      "text/plain": [
       "   carat  cut  color  clarity  depth  table     volume\n",
       "0   0.23    5      2        2   61.5   55.0  38.202030\n",
       "1   0.21    4      2        3   59.8   61.0  34.505856"
      ]
     },
     "execution_count": 26,
     "metadata": {},
     "output_type": "execute_result"
    }
   ],
   "source": [
    "x.head(2)"
   ]
  },
  {
   "cell_type": "code",
   "execution_count": 27,
   "id": "429cdfd9",
   "metadata": {},
   "outputs": [
    {
     "data": {
      "text/plain": [
       "0    326\n",
       "1    326\n",
       "Name: price, dtype: int64"
      ]
     },
     "execution_count": 27,
     "metadata": {},
     "output_type": "execute_result"
    }
   ],
   "source": [
    "y.head(2)"
   ]
  },
  {
   "cell_type": "code",
   "execution_count": 28,
   "id": "121e551c",
   "metadata": {},
   "outputs": [],
   "source": [
    "#splitting the data into Traing and Testing sets\n",
    "from sklearn.model_selection import train_test_split\n",
    "x_train,x_test,y_train,y_test = train_test_split(x,y,test_size=0.25,random_state=42)"
   ]
  },
  {
   "cell_type": "code",
   "execution_count": 29,
   "id": "23da792b",
   "metadata": {},
   "outputs": [
    {
     "data": {
      "text/plain": [
       "(40431, 7)"
      ]
     },
     "execution_count": 29,
     "metadata": {},
     "output_type": "execute_result"
    }
   ],
   "source": [
    "x_train.shape"
   ]
  },
  {
   "cell_type": "code",
   "execution_count": 30,
   "id": "b5347a17",
   "metadata": {},
   "outputs": [
    {
     "data": {
      "text/plain": [
       "(40431,)"
      ]
     },
     "execution_count": 30,
     "metadata": {},
     "output_type": "execute_result"
    }
   ],
   "source": [
    "y_train.shape"
   ]
  },
  {
   "cell_type": "code",
   "execution_count": 31,
   "id": "9ea0ba22",
   "metadata": {},
   "outputs": [
    {
     "data": {
      "text/plain": [
       "(13477, 7)"
      ]
     },
     "execution_count": 31,
     "metadata": {},
     "output_type": "execute_result"
    }
   ],
   "source": [
    "x_test.shape"
   ]
  },
  {
   "cell_type": "code",
   "execution_count": 32,
   "id": "2aad8590",
   "metadata": {},
   "outputs": [
    {
     "data": {
      "text/plain": [
       "(13477,)"
      ]
     },
     "execution_count": 32,
     "metadata": {},
     "output_type": "execute_result"
    }
   ],
   "source": [
    "y_test.shape"
   ]
  },
  {
   "cell_type": "markdown",
   "id": "49ef7819",
   "metadata": {},
   "source": [
    "# MODEL MAKING"
   ]
  },
  {
   "cell_type": "markdown",
   "id": "61b36be1",
   "metadata": {},
   "source": [
    "##### Model making using Dcision Tree Regresion"
   ]
  },
  {
   "cell_type": "code",
   "execution_count": null,
   "id": "9cdf9839",
   "metadata": {},
   "outputs": [],
   "source": [
    "#Importing the decison tree regressor and fitting the data to the model\n",
    "from sklearn import tree\n",
    "model = tree.DecisionTreeRegressor().fit(x_train,y_train)"
   ]
  },
  {
   "cell_type": "code",
   "execution_count": null,
   "id": "0a8ba038",
   "metadata": {},
   "outputs": [],
   "source": [
    "pred_y1=model.predict(x_test)"
   ]
  },
  {
   "cell_type": "code",
   "execution_count": null,
   "id": "e0af774c",
   "metadata": {},
   "outputs": [],
   "source": [
    "from sklearn.metrics import r2_score\n",
    "print('R2 score of the Decision Tree Regressor is: {:.2%}'.format(r2_score(y_test,pred_y1)))"
   ]
  },
  {
   "cell_type": "code",
   "execution_count": null,
   "id": "f16c74ef",
   "metadata": {},
   "outputs": [],
   "source": [
    "model.predict([[0.5,3,2,4,61.5,55.0,79]])"
   ]
  },
  {
   "cell_type": "markdown",
   "id": "042bcf0b",
   "metadata": {},
   "source": [
    "##### Model making using Random Forest Regressor"
   ]
  },
  {
   "cell_type": "code",
   "execution_count": null,
   "id": "6c2fa316",
   "metadata": {},
   "outputs": [],
   "source": [
    "#Using Random Forest Regressor\n",
    "from sklearn.ensemble import RandomForestRegressor"
   ]
  },
  {
   "cell_type": "code",
   "execution_count": null,
   "id": "eb51a15e",
   "metadata": {},
   "outputs": [],
   "source": [
    "model1=RandomForestRegressor().fit(x_train,y_train)"
   ]
  },
  {
   "cell_type": "code",
   "execution_count": null,
   "id": "25cd13ce",
   "metadata": {},
   "outputs": [],
   "source": [
    "pred_y2=model1.predict(x_test)"
   ]
  },
  {
   "cell_type": "code",
   "execution_count": null,
   "id": "86ed3b37",
   "metadata": {},
   "outputs": [],
   "source": [
    "print('R2 score of the Random Forest Regressor is: {:.2%}'.format(r2_score(y_test,pred_y2)))"
   ]
  },
  {
   "cell_type": "markdown",
   "id": "ab4b5291",
   "metadata": {},
   "source": [
    "##### Model making using Linear Regression"
   ]
  },
  {
   "cell_type": "code",
   "execution_count": null,
   "id": "5f440b9a",
   "metadata": {},
   "outputs": [],
   "source": [
    "#using Multiple linear Rgression\n",
    "from sklearn.linear_model import LinearRegression"
   ]
  },
  {
   "cell_type": "code",
   "execution_count": null,
   "id": "cd6256f6",
   "metadata": {},
   "outputs": [],
   "source": [
    "model2=RandomForestRegressor().fit(x_train,y_train)"
   ]
  },
  {
   "cell_type": "code",
   "execution_count": null,
   "id": "fcb17b81",
   "metadata": {},
   "outputs": [],
   "source": [
    "pred_y3=model2.predict(x_test)"
   ]
  },
  {
   "cell_type": "code",
   "execution_count": null,
   "id": "a7285cce",
   "metadata": {},
   "outputs": [],
   "source": [
    "print('R2 score of the Linear Regression is: {:.2%}'.format(r2_score(y_test,pred_y3)))"
   ]
  },
  {
   "cell_type": "code",
   "execution_count": null,
   "id": "5dbb1466",
   "metadata": {},
   "outputs": [],
   "source": [
    "model2.predict([[0.5,3,2,4,61.5,55.0,79]])"
   ]
  },
  {
   "cell_type": "code",
   "execution_count": null,
   "id": "dce39d9b",
   "metadata": {},
   "outputs": [],
   "source": [
    "x.head(2)"
   ]
  },
  {
   "cell_type": "code",
   "execution_count": null,
   "id": "3df4cb6d",
   "metadata": {},
   "outputs": [],
   "source": [
    "model2.predict([[2.3,3, 4, 8, 80,55, 90]])"
   ]
  },
  {
   "cell_type": "code",
   "execution_count": null,
   "id": "c027e8cd",
   "metadata": {},
   "outputs": [],
   "source": [
    "r2_score(y_test,pred_y2)"
   ]
  },
  {
   "cell_type": "code",
   "execution_count": null,
   "id": "09f085f9",
   "metadata": {},
   "outputs": [],
   "source": [
    "r2_score(y_test,pred_y3)"
   ]
  },
  {
   "cell_type": "markdown",
   "id": "055f76f2",
   "metadata": {},
   "source": [
    "predicting values"
   ]
  },
  {
   "cell_type": "code",
   "execution_count": null,
   "id": "c6d6c734",
   "metadata": {},
   "outputs": [],
   "source": [
    "model2.predict([[0.23, 5, 2, 1, 61.5, 55, 38.20]])"
   ]
  },
  {
   "cell_type": "code",
   "execution_count": null,
   "id": "f6485d04",
   "metadata": {},
   "outputs": [],
   "source": [
    "model1.predict([[0.23, 5, 2, 1, 61.5, 55, 38.20]])"
   ]
  },
  {
   "cell_type": "code",
   "execution_count": null,
   "id": "9618819e",
   "metadata": {},
   "outputs": [],
   "source": [
    "model.predict([[0.23, 5, 2, 1, 61.5, 55, 38.20]])"
   ]
  },
  {
   "cell_type": "code",
   "execution_count": null,
   "id": "236e8018",
   "metadata": {},
   "outputs": [],
   "source": [
    "model1.predict([[0.5,3, 3, 5, 80,55, 90]])"
   ]
  },
  {
   "cell_type": "code",
   "execution_count": null,
   "id": "6e33cab6",
   "metadata": {
    "scrolled": true
   },
   "outputs": [],
   "source": [
    "a=[0.23, 5, 2, 1, 61.5, 55,34]\n",
    "pred=0\n",
    "if((0 not in a) and (a[1]>=1 and a[1]<=5) and (a[2]>=1 and a[2]<=7) and (a[3]>=1 and a[3]<=8)):\n",
    "    pred=model1.predict([a])[0]\n",
    "    print(\"The predicted price of the diamond is $\",pred+((pred*42)/100))\n",
    "else:\n",
    "    print(\"Invalid properties of diamond\")"
   ]
  },
  {
   "cell_type": "code",
   "execution_count": null,
   "id": "c2c09342",
   "metadata": {},
   "outputs": [],
   "source": [
    "b=[0.5,3,2,1,61.5,55,79]\n",
    "pred=0\n",
    "if((0 not in b) and (b[1]>=1 and b[1]<=5) and (b[2]>=1 and b[2]<=7) and (b[3]>=1 and b[3]<=8)):\n",
    "    pred=model1.predict([b])[0]\n",
    "    print(\"The predicted price of the diamond is $\",pred+((pred*42)/100))\n",
    "else:\n",
    "    print(\"Invalid properties of diamond\")"
   ]
  },
  {
   "cell_type": "code",
   "execution_count": null,
   "id": "fd9c3bed",
   "metadata": {},
   "outputs": [],
   "source": [
    "a=[0.23, 5, 2, 1, 61.5, 55,34]\n",
    "pred=0\n",
    "if((0 not in a) and (a[1]>=1 and a[1]<=5) and (a[2]>=1 and a[2]<=7) and (a[3]>=1 and a[3]<=8)):\n",
    "    pred=model1.predict([a])[0]\n",
    "    print(\"The predicted price of the diamond in 2020 $\",pred+((pred*14)/100))\n",
    "    print(\"The predicted price of the diamond is 2021 $\",pred+((pred*28)/100))\n",
    "    print(\"The predicted price of the diamond is 2022 $\",pred+((pred*42)/100))\n",
    "else:\n",
    "    print(\"Invalid properties of diamond\")"
   ]
  },
  {
   "cell_type": "code",
   "execution_count": null,
   "id": "21d5433f",
   "metadata": {},
   "outputs": [],
   "source": [
    "b=[0.5,3,2,1,61.5,55,79]\n",
    "pred=0\n",
    "if((0 not in b) and (b[1]>=1 and b[1]<=5) and (b[2]>=1 and b[2]<=7) and (b[3]>=1 and b[3]<=8)):\n",
    "    pred=model1.predict([b])[0]\n",
    "    print(\"The predicted price of the diamond in 2020 $\",pred+((pred*14)/100))\n",
    "    print(\"The predicted price of the diamond is 2021 $\",pred+((pred*28)/100))\n",
    "    print(\"The predicted price of the diamond is 2022 $\",pred+((pred*42)/100))\n",
    "else:\n",
    "    print(\"Invalid properties of diamond\")"
   ]
  },
  {
   "cell_type": "code",
   "execution_count": null,
   "id": "aa833f46",
   "metadata": {},
   "outputs": [],
   "source": []
  }
 ],
 "metadata": {
  "kernelspec": {
   "display_name": "Python 3 (ipykernel)",
   "language": "python",
   "name": "python3"
  },
  "language_info": {
   "codemirror_mode": {
    "name": "ipython",
    "version": 3
   },
   "file_extension": ".py",
   "mimetype": "text/x-python",
   "name": "python",
   "nbconvert_exporter": "python",
   "pygments_lexer": "ipython3",
   "version": "3.9.7"
  }
 },
 "nbformat": 4,
 "nbformat_minor": 5
}
